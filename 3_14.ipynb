{
  "nbformat": 4,
  "nbformat_minor": 0,
  "metadata": {
    "colab": {
      "provenance": [],
      "authorship_tag": "ABX9TyPDGUy9PdrcaFo0F0XADZ/i",
      "include_colab_link": true
    },
    "kernelspec": {
      "name": "python3",
      "display_name": "Python 3"
    },
    "language_info": {
      "name": "python"
    }
  },
  "cells": [
    {
      "cell_type": "markdown",
      "metadata": {
        "id": "view-in-github",
        "colab_type": "text"
      },
      "source": [
        "<a href=\"https://colab.research.google.com/github/yeju321qaz/3.14-/blob/main/3_14.ipynb\" target=\"_parent\"><img src=\"https://colab.research.google.com/assets/colab-badge.svg\" alt=\"Open In Colab\"/></a>"
      ]
    },
    {
      "cell_type": "code",
      "execution_count": null,
      "metadata": {
        "id": "1T-BtONrINZG",
        "colab": {
          "base_uri": "https://localhost:8080/"
        },
        "outputId": "65fa0e3c-b10f-48d7-b3d5-28b5e1d4e6ad"
      },
      "outputs": [
        {
          "output_type": "stream",
          "name": "stdout",
          "text": [
            "<?xml version=\"1.0\" encoding=\"UTF-8\" standalone=\"yes\"?><response><comMsgHeader/><msgHeader><queryTime>2024-03-15 15:37:00.126</queryTime><resultCode>0</resultCode><resultMessage>정상적으로 처리되었습니다.</resultMessage></msgHeader><msgBody><busLocationList><endBus>0</endBus><lowPlate>0</lowPlate><plateNo>경기70사1694</plateNo><plateType>3</plateType><remainSeatCnt>44</remainSeatCnt><routeId>200000150</routeId><stationId>201000447</stationId><stationSeq>79</stationSeq></busLocationList><busLocationList><endBus>0</endBus><lowPlate>0</lowPlate><plateNo>경기76아1297</plateNo><plateType>3</plateType><remainSeatCnt>20</remainSeatCnt><routeId>200000150</routeId><stationId>277103221</stationId><stationSeq>32</stationSeq></busLocationList><busLocationList><endBus>0</endBus><lowPlate>0</lowPlate><plateNo>경기70사1119</plateNo><plateType>3</plateType><remainSeatCnt>30</remainSeatCnt><routeId>200000150</routeId><stationId>201000117</stationId><stationSeq>61</stationSeq></busLocationList><busLocationList><endBus>0</endBus><lowPlate>0</lowPlate><plateNo>경기70사1665</plateNo><plateType>3</plateType><remainSeatCnt>43</remainSeatCnt><routeId>200000150</routeId><stationId>201000245</stationId><stationSeq>11</stationSeq></busLocationList><busLocationList><endBus>0</endBus><lowPlate>0</lowPlate><plateNo>경기76아1295</plateNo><plateType>3</plateType><remainSeatCnt>41</remainSeatCnt><routeId>200000150</routeId><stationId>201000447</stationId><stationSeq>79</stationSeq></busLocationList><busLocationList><endBus>0</endBus><lowPlate>0</lowPlate><plateNo>경기70사1663</plateNo><plateType>3</plateType><remainSeatCnt>9</remainSeatCnt><routeId>200000150</routeId><stationId>277104641</stationId><stationSeq>53</stationSeq></busLocationList><busLocationList><endBus>0</endBus><lowPlate>0</lowPlate><plateNo>경기70사1666</plateNo><plateType>3</plateType><remainSeatCnt>8</remainSeatCnt><routeId>200000150</routeId><stationId>277103205</stationId><stationSeq>36</stationSeq></busLocationList><busLocationList><endBus>0</endBus><lowPlate>0</lowPlate><plateNo>경기70사1664</plateNo><plateType>3</plateType><remainSeatCnt>20</remainSeatCnt><routeId>200000150</routeId><stationId>277102291</stationId><stationSeq>43</stationSeq></busLocationList><busLocationList><endBus>0</endBus><lowPlate>0</lowPlate><plateNo>경기70사1676</plateNo><plateType>4</plateType><remainSeatCnt>53</remainSeatCnt><routeId>200000150</routeId><stationId>201000146</stationId><stationSeq>18</stationSeq></busLocationList><busLocationList><endBus>0</endBus><lowPlate>0</lowPlate><plateNo>경기76아1296</plateNo><plateType>3</plateType><remainSeatCnt>40</remainSeatCnt><routeId>200000150</routeId><stationId>201000436</stationId><stationSeq>5</stationSeq></busLocationList><busLocationList><endBus>0</endBus><lowPlate>0</lowPlate><plateNo>경기70사1112</plateNo><plateType>4</plateType><remainSeatCnt>71</remainSeatCnt><routeId>200000150</routeId><stationId>201000447</stationId><stationSeq>79</stationSeq></busLocationList><busLocationList><endBus>0</endBus><lowPlate>0</lowPlate><plateNo>경기76아1298</plateNo><plateType>3</plateType><remainSeatCnt>40</remainSeatCnt><routeId>200000150</routeId><stationId>121001315</stationId><stationSeq>39</stationSeq></busLocationList><busLocationList><endBus>0</endBus><lowPlate>0</lowPlate><plateNo>경기70사1647</plateNo><plateType>4</plateType><remainSeatCnt>69</remainSeatCnt><routeId>200000150</routeId><stationId>201000435</stationId><stationSeq>76</stationSeq></busLocationList><busLocationList><endBus>0</endBus><lowPlate>0</lowPlate><plateNo>경기70사1132</plateNo><plateType>3</plateType><remainSeatCnt>20</remainSeatCnt><routeId>200000150</routeId><stationId>200000104</stationId><stationSeq>25</stationSeq></busLocationList><busLocationList><endBus>0</endBus><lowPlate>0</lowPlate><plateNo>경기70사1641</plateNo><plateType>3</plateType><remainSeatCnt>28</remainSeatCnt><routeId>200000150</routeId><stationId>201000101</stationId><stationSeq>64</stationSeq></busLocationList></msgBody></response>\n"
          ]
        }
      ],
      "source": [
        "import requests\n",
        "url = 'http://apis.data.go.kr/6410000/buslocationservice/getBusLocationList?serviceKey=1234567890&routeId=200000150'\n",
        "r= requests.get(url)\n",
        "print(r.text)"
      ]
    },
    {
      "cell_type": "code",
      "source": [
        "from bs4 import BeautifulSoup\n",
        "\n",
        "soup = BeautifulSoup(r.text, features=\"xml\")"
      ],
      "metadata": {
        "id": "Xqr12sly0_tO"
      },
      "execution_count": null,
      "outputs": []
    },
    {
      "cell_type": "code",
      "source": [
        "soup.find_all('stationId')"
      ],
      "metadata": {
        "colab": {
          "base_uri": "https://localhost:8080/"
        },
        "id": "w2ANazAw1QU2",
        "outputId": "bc7a51db-7e92-4959-f6eb-b2cdfcede101"
      },
      "execution_count": null,
      "outputs": [
        {
          "output_type": "execute_result",
          "data": {
            "text/plain": [
              "[<stationId>201000447</stationId>,\n",
              " <stationId>277103221</stationId>,\n",
              " <stationId>201000117</stationId>,\n",
              " <stationId>201000245</stationId>,\n",
              " <stationId>201000447</stationId>,\n",
              " <stationId>277104641</stationId>,\n",
              " <stationId>277103205</stationId>,\n",
              " <stationId>277102291</stationId>,\n",
              " <stationId>201000146</stationId>,\n",
              " <stationId>201000436</stationId>,\n",
              " <stationId>201000447</stationId>,\n",
              " <stationId>121001315</stationId>,\n",
              " <stationId>201000435</stationId>,\n",
              " <stationId>200000104</stationId>,\n",
              " <stationId>201000101</stationId>]"
            ]
          },
          "metadata": {},
          "execution_count": 12
        }
      ]
    },
    {
      "cell_type": "code",
      "source": [
        "print('학번=', 2376210, '이름=', '이예주')"
      ],
      "metadata": {
        "colab": {
          "base_uri": "https://localhost:8080/"
        },
        "id": "3bAsT8bm1r48",
        "outputId": "dbee8ae0-fc15-4321-f9de-31731a92d52b"
      },
      "execution_count": null,
      "outputs": [
        {
          "output_type": "stream",
          "name": "stdout",
          "text": [
            "학번= 2376210 이름= 이예주\n"
          ]
        }
      ]
    }
  ]
}