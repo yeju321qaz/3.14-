{
  "nbformat": 4,
  "nbformat_minor": 0,
  "metadata": {
    "colab": {
      "provenance": [],
      "authorship_tag": "ABX9TyMB/SxAwBSe206nEH7AmFSj",
      "include_colab_link": true
    },
    "kernelspec": {
      "name": "python3",
      "display_name": "Python 3"
    },
    "language_info": {
      "name": "python"
    }
  },
  "cells": [
    {
      "cell_type": "markdown",
      "metadata": {
        "id": "view-in-github",
        "colab_type": "text"
      },
      "source": [
        "<a href=\"https://colab.research.google.com/github/yeju321qaz/assignment/blob/main/Socket_assignment.ipynb\" target=\"_parent\"><img src=\"https://colab.research.google.com/assets/colab-badge.svg\" alt=\"Open In Colab\"/></a>"
      ]
    },
    {
      "cell_type": "code",
      "execution_count": 1,
      "metadata": {
        "colab": {
          "base_uri": "https://localhost:8080/"
        },
        "id": "8Lj2h76LKJss",
        "outputId": "310580cd-d767-43e4-966d-15ea195a5793"
      },
      "outputs": [
        {
          "output_type": "stream",
          "name": "stdout",
          "text": [
            "Received HTTP/1.1 200 OK\r\n",
            "Date: Thu, 28 Mar 2024 04:32:38 GMT\r\n",
            "Expires: -1\r\n",
            "Cache-Control: private, max-age=0\r\n",
            "Content-Type: text/html; charset=ISO-8859-1\r\n",
            "Content-Security-Policy-Report-Only: object-src 'none';base-uri 'self';script-src 'nonce-G_BDY2glyx0kYa9MBMt7Ag' 'strict-dynamic' 'report-sample' 'unsafe-eval' 'unsafe-inline' https: http:;report-uri https://csp.withgoogle.com/csp/gws/other-hp\r\n",
            "P3P: CP=\"This is not a P3P policy! See g.co/p3phelp for more info.\"\r\n",
            "Server: gws\r\n",
            "X-XSS-Protection: 0\r\n",
            "X-Frame-Options: SAMEORIGIN\r\n",
            "Set-Cookie: 1P_JAR=2024-03-28-04; expires=Sat, 27-Apr-2024 04:32:38 GMT; path=/; domain=.google.com; Secure\r\n",
            "Set-Cookie: AEC=Ae3NU9OwNF0yNT62nkFBuMemiHO1j_9NLBS8zca533Oj48qkq4ODNgcAbJ4; expires=Tue, 24-Sep-2024 04:32:38 GMT; path=/; domain=.google.com; Secure; HttpOnly; SameSite=lax\r\n",
            "Set-Cookie: NID=512=gulVq0UXGS_KI2X9GPVoWPJDZn0OtGZBthnzb9ldTx8sQrtwlz6id7lv-FfBPaG1BS9PjUNt25EMkmpdMd_4spG74rSM4hD5A9fKLh90rprIJR7OPgC-KBN9UOwDN4__BMUpijee1f5JLwLHPvKrcKzMnQfOfCUBm0tiwNmIGto; expires=Fri, 27-Sep-20\n"
          ]
        }
      ],
      "source": [
        "import socket\n",
        "\n",
        "HOST = \"google.com\"\n",
        "PORT = 80\n",
        "\n",
        "with socket.socket(socket.AF_INET, socket.SOCK_STREAM) as s:\n",
        "    s.connect((HOST, PORT))\n",
        "    s.sendall(b\"GET / HTTP/1.2\\n\\n\")\n",
        "    data = s.recv(1024)\n",
        "\n",
        "print(f\"Received {data.decode('utf-8')}\")\n"
      ]
    },
    {
      "cell_type": "code",
      "source": [
        "!curl ipecho.net/plain"
      ],
      "metadata": {
        "colab": {
          "base_uri": "https://localhost:8080/"
        },
        "id": "Us8zw7MDVPih",
        "outputId": "55171e7f-63d8-499a-9912-ceabbb30b2bc"
      },
      "execution_count": 2,
      "outputs": [
        {
          "output_type": "stream",
          "name": "stdout",
          "text": [
            "34.173.157.88"
          ]
        }
      ]
    }
  ]
}