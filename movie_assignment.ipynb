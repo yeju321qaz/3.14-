{
  "nbformat": 4,
  "nbformat_minor": 0,
  "metadata": {
    "colab": {
      "provenance": [],
      "authorship_tag": "ABX9TyMJQTDhrAJzVwjZROHbWJW4",
      "include_colab_link": true
    },
    "kernelspec": {
      "name": "python3",
      "display_name": "Python 3"
    },
    "language_info": {
      "name": "python"
    }
  },
  "cells": [
    {
      "cell_type": "markdown",
      "metadata": {
        "id": "view-in-github",
        "colab_type": "text"
      },
      "source": [
        "<a href=\"https://colab.research.google.com/github/yeju321qaz/3.14-/blob/main/movie_assignment.ipynb\" target=\"_parent\"><img src=\"https://colab.research.google.com/assets/colab-badge.svg\" alt=\"Open In Colab\"/></a>"
      ]
    },
    {
      "cell_type": "code",
      "execution_count": 1,
      "metadata": {
        "colab": {
          "base_uri": "https://localhost:8080/"
        },
        "id": "xx1PPJct8t8L",
        "outputId": "1fd80c6e-ec01-4e8b-8f60-2b45d943e58a"
      },
      "outputs": [
        {
          "output_type": "stream",
          "name": "stdout",
          "text": [
            "<?xml version=\"1.0\" encoding=\"utf-8\" standalone=\"yes\"?><boxOfficeResult><boxofficeType>일별 박스오피스</boxofficeType><showRange>20240315~20240315</showRange><dailyBoxOfficeList><dailyBoxOffice><rnum>1</rnum><rank>1</rank><rankInten>0</rankInten><rankOldAndNew>OLD</rankOldAndNew><movieCd>20234675</movieCd><movieNm>파묘</movieNm><openDt>2024-02-22</openDt><salesAmt>1482201003</salesAmt><salesShare>62.0</salesShare><salesInten>487712627</salesInten><salesChange>49</salesChange><salesAcc>83499373334</salesAcc><audiCnt>150672</audiCnt><audiInten>45607</audiInten><audiChange>43.4</audiChange><audiAcc>8668276</audiAcc><scrnCnt>1860</scrnCnt><showCnt>7090</showCnt></dailyBoxOffice><dailyBoxOffice><rnum>2</rnum><rank>2</rank><rankInten>0</rankInten><rankOldAndNew>OLD</rankOldAndNew><movieCd>20236295</movieCd><movieNm>듄: 파트2</movieNm><openDt>2024-02-28</openDt><salesAmt>477343683</salesAmt><salesShare>20.0</salesShare><salesInten>167529526</salesInten><salesChange>54.1</salesChange><salesAcc>16357222625</salesAcc><audiCnt>37224</audiCnt><audiInten>12733</audiInten><audiChange>52</audiChange><audiAcc>1430461</audiAcc><scrnCnt>877</scrnCnt><showCnt>2087</showCnt></dailyBoxOffice><dailyBoxOffice><rnum>3</rnum><rank>3</rank><rankInten>2</rankInten><rankOldAndNew>OLD</rankOldAndNew><movieCd>20236732</movieCd><movieNm>가여운 것들</movieNm><openDt>2024-03-06</openDt><salesAmt>55257810</salesAmt><salesShare>2.3</salesShare><salesInten>16140730</salesInten><salesChange>41.3</salesChange><salesAcc>920718421</salesAcc><audiCnt>5340</audiCnt><audiInten>1409</audiInten><audiChange>35.8</audiChange><audiAcc>92665</audiAcc><scrnCnt>303</scrnCnt><showCnt>429</showCnt></dailyBoxOffice><dailyBoxOffice><rnum>4</rnum><rank>4</rank><rankInten>-1</rankInten><rankOldAndNew>OLD</rankOldAndNew><movieCd>20236488</movieCd><movieNm>밥 말리: 원 러브</movieNm><openDt>2024-03-13</openDt><salesAmt>43802593</salesAmt><salesShare>1.8</salesShare><salesInten>3685637</salesInten><salesChange>9.2</salesChange><salesAcc>177538501</salesAcc><audiCnt>4752</audiCnt><audiInten>199</audiInten><audiChange>4.4</audiChange><audiAcc>19794</audiAcc><scrnCnt>473</scrnCnt><showCnt>929</showCnt></dailyBoxOffice><dailyBoxOffice><rnum>5</rnum><rank>5</rank><rankInten>-1</rankInten><rankOldAndNew>OLD</rankOldAndNew><movieCd>20247782</movieCd><movieNm>랜드 오브 배드</movieNm><openDt>2024-03-13</openDt><salesAmt>37653475</salesAmt><salesShare>1.6</salesShare><salesInten>5202682</salesInten><salesChange>16</salesChange><salesAcc>116908823</salesAcc><audiCnt>4388</audiCnt><audiInten>426</audiInten><audiChange>10.8</audiChange><audiAcc>14360</audiAcc><scrnCnt>384</scrnCnt><showCnt>670</showCnt></dailyBoxOffice><dailyBoxOffice><rnum>6</rnum><rank>6</rank><rankInten>0</rankInten><rankOldAndNew>OLD</rankOldAndNew><movieCd>20234789</movieCd><movieNm>패스트 라이브즈</movieNm><openDt>2024-03-06</openDt><salesAmt>39419872</salesAmt><salesShare>1.6</salesShare><salesInten>9738955</salesInten><salesChange>32.8</salesChange><salesAcc>699915157</salesAcc><audiCnt>4008</audiCnt><audiInten>874</audiInten><audiChange>27.9</audiChange><audiAcc>77893</audiAcc><scrnCnt>316</scrnCnt><showCnt>497</showCnt></dailyBoxOffice><dailyBoxOffice><rnum>7</rnum><rank>7</rank><rankInten>3</rankInten><rankOldAndNew>OLD</rankOldAndNew><movieCd>20236180</movieCd><movieNm>웡카</movieNm><openDt>2024-01-31</openDt><salesAmt>33937441</salesAmt><salesShare>1.4</salesShare><salesInten>13727651</salesInten><salesChange>67.9</salesChange><salesAcc>32921822201</salesAcc><audiCnt>3455</audiCnt><audiInten>1343</audiInten><audiChange>63.6</audiChange><audiAcc>3423858</audiAcc><scrnCnt>275</scrnCnt><showCnt>372</showCnt></dailyBoxOffice><dailyBoxOffice><rnum>8</rnum><rank>8</rank><rankInten>0</rankInten><rankOldAndNew>OLD</rankOldAndNew><movieCd>20247053</movieCd><movieNm>메이 디셈버</movieNm><openDt>2024-03-13</openDt><salesAmt>28687927</salesAmt><salesShare>1.2</salesShare><salesInten>3201482</salesInten><salesChange>12.6</salesChange><salesAcc>175152483</salesAcc><audiCnt>3243</audiCnt><audiInten>331</audiInten><audiChange>11.4</audiChange><audiAcc>19034</audiAcc><scrnCnt>364</scrnCnt><showCnt>520</showCnt></dailyBoxOffice><dailyBoxOffice><rnum>9</rnum><rank>9</rank><rankInten>-2</rankInten><rankOldAndNew>OLD</rankOldAndNew><movieCd>20236714</movieCd><movieNm>극장판 스파이 패밀리 코드 : 화이트</movieNm><openDt>2024-03-20</openDt><salesAmt>32964000</salesAmt><salesShare>1.4</salesShare><salesInten>4128000</salesInten><salesChange>14.3</salesChange><salesAcc>75148000</salesAcc><audiCnt>3105</audiCnt><audiInten>-15</audiInten><audiChange>-0.5</audiChange><audiAcc>7029</audiAcc><scrnCnt>18</scrnCnt><showCnt>18</showCnt></dailyBoxOffice><dailyBoxOffice><rnum>10</rnum><rank>10</rank><rankInten>-1</rankInten><rankOldAndNew>OLD</rankOldAndNew><movieCd>20247074</movieCd><movieNm>건국전쟁</movieNm><openDt>2024-02-01</openDt><salesAmt>16561307</salesAmt><salesShare>0.7</salesShare><salesInten>-2385071</salesInten><salesChange>-12.6</salesChange><salesAcc>10731681504</salesAcc><audiCnt>1907</audiCnt><audiInten>-310</audiInten><audiChange>-14</audiChange><audiAcc>1154140</audiAcc><scrnCnt>188</scrnCnt><showCnt>216</showCnt></dailyBoxOffice></dailyBoxOfficeList></boxOfficeResult>\n"
          ]
        }
      ],
      "source": [
        "import requests\n",
        "from bs4 import BeautifulSoup\n",
        "\n",
        "r = requests.get('http://www.kobis.or.kr/kobisopenapi/webservice/rest/boxoffice/searchDailyBoxOfficeList.xml?key=f281013a0b5e2b422da1168384b4b9f5&targetDt=20240315')\n",
        "print(r.text)"
      ]
    },
    {
      "cell_type": "code",
      "source": [
        "soup = BeautifulSoup(r.text, features=\"xml\")"
      ],
      "metadata": {
        "id": "qdcdE8tT800Y"
      },
      "execution_count": 2,
      "outputs": []
    },
    {
      "cell_type": "code",
      "source": [
        "soup.find_all('movieNm')"
      ],
      "metadata": {
        "colab": {
          "base_uri": "https://localhost:8080/"
        },
        "id": "hx1QIRWz8537",
        "outputId": "bed51e8b-cb39-42bb-eeef-b3e86b82d3c7"
      },
      "execution_count": 3,
      "outputs": [
        {
          "output_type": "execute_result",
          "data": {
            "text/plain": [
              "[<movieNm>파묘</movieNm>,\n",
              " <movieNm>듄: 파트2</movieNm>,\n",
              " <movieNm>가여운 것들</movieNm>,\n",
              " <movieNm>밥 말리: 원 러브</movieNm>,\n",
              " <movieNm>랜드 오브 배드</movieNm>,\n",
              " <movieNm>패스트 라이브즈</movieNm>,\n",
              " <movieNm>웡카</movieNm>,\n",
              " <movieNm>메이 디셈버</movieNm>,\n",
              " <movieNm>극장판 스파이 패밀리 코드 : 화이트</movieNm>,\n",
              " <movieNm>건국전쟁</movieNm>]"
            ]
          },
          "metadata": {},
          "execution_count": 3
        }
      ]
    },
    {
      "cell_type": "code",
      "source": [
        "soup.find_all('audiCnt')"
      ],
      "metadata": {
        "colab": {
          "base_uri": "https://localhost:8080/"
        },
        "id": "evg4XtKl8_8z",
        "outputId": "32ad7bec-d885-47c0-a107-235f40319599"
      },
      "execution_count": 4,
      "outputs": [
        {
          "output_type": "execute_result",
          "data": {
            "text/plain": [
              "[<audiCnt>150672</audiCnt>,\n",
              " <audiCnt>37224</audiCnt>,\n",
              " <audiCnt>5340</audiCnt>,\n",
              " <audiCnt>4752</audiCnt>,\n",
              " <audiCnt>4388</audiCnt>,\n",
              " <audiCnt>4008</audiCnt>,\n",
              " <audiCnt>3455</audiCnt>,\n",
              " <audiCnt>3243</audiCnt>,\n",
              " <audiCnt>3105</audiCnt>,\n",
              " <audiCnt>1907</audiCnt>]"
            ]
          },
          "metadata": {},
          "execution_count": 4
        }
      ]
    }
  ]
}