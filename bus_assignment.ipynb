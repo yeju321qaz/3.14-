{
  "nbformat": 4,
  "nbformat_minor": 0,
  "metadata": {
    "colab": {
      "provenance": [],
      "name": "bus assignment",
      "authorship_tag": "ABX9TyOU2M7PaGxKH7KLNuMNSN92",
      "include_colab_link": true
    },
    "kernelspec": {
      "name": "python3",
      "display_name": "Python 3"
    },
    "language_info": {
      "name": "python"
    }
  },
  "cells": [
    {
      "cell_type": "markdown",
      "metadata": {
        "id": "view-in-github",
        "colab_type": "text"
      },
      "source": [
        "<a href=\"https://colab.research.google.com/github/yeju321qaz/3.14-/blob/main/bus_assignment.ipynb\" target=\"_parent\"><img src=\"https://colab.research.google.com/assets/colab-badge.svg\" alt=\"Open In Colab\"/></a>"
      ]
    },
    {
      "cell_type": "code",
      "execution_count": 1,
      "metadata": {
        "id": "1T-BtONrINZG",
        "colab": {
          "base_uri": "https://localhost:8080/"
        },
        "outputId": "8f2a1719-f604-4df4-aa03-0ec3fcf8e469"
      },
      "outputs": [
        {
          "output_type": "stream",
          "name": "stdout",
          "text": [
            "<?xml version=\"1.0\" encoding=\"UTF-8\" standalone=\"yes\"?><response><comMsgHeader/><msgHeader><queryTime>2024-03-16 22:40:03.058</queryTime><resultCode>0</resultCode><resultMessage>정상적으로 처리되었습니다.</resultMessage></msgHeader><msgBody><busLocationList><endBus>0</endBus><lowPlate>0</lowPlate><plateNo>경기70사1123</plateNo><plateType>4</plateType><remainSeatCnt>69</remainSeatCnt><routeId>200000150</routeId><stationId>201000447</stationId><stationSeq>79</stationSeq></busLocationList><busLocationList><endBus>0</endBus><lowPlate>0</lowPlate><plateNo>경기70사1147</plateNo><plateType>3</plateType><remainSeatCnt>48</remainSeatCnt><routeId>200000150</routeId><stationId>200000160</stationId><stationSeq>57</stationSeq></busLocationList><busLocationList><endBus>0</endBus><lowPlate>0</lowPlate><plateNo>경기70사1646</plateNo><plateType>4</plateType><remainSeatCnt>7</remainSeatCnt><routeId>200000150</routeId><stationId>277103204</stationId><stationSeq>45</stationSeq></busLocationList><busLocationList><endBus>0</endBus><lowPlate>0</lowPlate><plateNo>경기70사1663</plateNo><plateType>3</plateType><remainSeatCnt>24</remainSeatCnt><routeId>200000150</routeId><stationId>201000101</stationId><stationSeq>64</stationSeq></busLocationList><busLocationList><endBus>0</endBus><lowPlate>0</lowPlate><plateNo>경기70사1648</plateNo><plateType>4</plateType><remainSeatCnt>67</remainSeatCnt><routeId>200000150</routeId><stationId>201000414</stationId><stationSeq>16</stationSeq></busLocationList><busLocationList><endBus>0</endBus><lowPlate>0</lowPlate><plateNo>경기70사1694</plateNo><plateType>3</plateType><remainSeatCnt>44</remainSeatCnt><routeId>200000150</routeId><stationId>201000337</stationId><stationSeq>10</stationSeq></busLocationList><busLocationList><endBus>0</endBus><lowPlate>0</lowPlate><plateNo>경기70사1119</plateNo><plateType>3</plateType><remainSeatCnt>29</remainSeatCnt><routeId>200000150</routeId><stationId>201000100</stationId><stationSeq>67</stationSeq></busLocationList><busLocationList><endBus>0</endBus><lowPlate>0</lowPlate><plateNo>경기70사1132</plateNo><plateType>3</plateType><remainSeatCnt>8</remainSeatCnt><routeId>200000150</routeId><stationId>200000276</stationId><stationSeq>54</stationSeq></busLocationList><busLocationList><endBus>0</endBus><lowPlate>0</lowPlate><plateNo>경기70사1664</plateNo><plateType>3</plateType><remainSeatCnt>36</remainSeatCnt><routeId>200000150</routeId><stationId>201000117</stationId><stationSeq>61</stationSeq></busLocationList><busLocationList><endBus>0</endBus><lowPlate>0</lowPlate><plateNo>경기70사1649</plateNo><plateType>4</plateType><remainSeatCnt>70</remainSeatCnt><routeId>200000150</routeId><stationId>277101688</stationId><stationSeq>40</stationSeq></busLocationList><busLocationList><endBus>0</endBus><lowPlate>0</lowPlate><plateNo>경기70사1666</plateNo><plateType>3</plateType><remainSeatCnt>33</remainSeatCnt><routeId>200000150</routeId><stationId>200000305</stationId><stationSeq>60</stationSeq></busLocationList><busLocationList><endBus>0</endBus><lowPlate>0</lowPlate><plateNo>경기70사1678</plateNo><plateType>4</plateType><remainSeatCnt>54</remainSeatCnt><routeId>200000150</routeId><stationId>200000104</stationId><stationSeq>25</stationSeq></busLocationList><busLocationList><endBus>0</endBus><lowPlate>0</lowPlate><plateNo>경기70사1662</plateNo><plateType>3</plateType><remainSeatCnt>37</remainSeatCnt><routeId>200000150</routeId><stationId>277103200</stationId><stationSeq>34</stationSeq></busLocationList><busLocationList><endBus>0</endBus><lowPlate>0</lowPlate><plateNo>경기76아1296</plateNo><plateType>3</plateType><remainSeatCnt>0</remainSeatCnt><routeId>200000150</routeId><stationId>220000009</stationId><stationSeq>44</stationSeq></busLocationList><busLocationList><endBus>0</endBus><lowPlate>0</lowPlate><plateNo>경기70사1647</plateNo><plateType>4</plateType><remainSeatCnt>68</remainSeatCnt><routeId>200000150</routeId><stationId>201000410</stationId><stationSeq>74</stationSeq></busLocationList><busLocationList><endBus>0</endBus><lowPlate>0</lowPlate><plateNo>경기70사1641</plateNo><plateType>3</plateType><remainSeatCnt>22</remainSeatCnt><routeId>200000150</routeId><stationId>201000318</stationId><stationSeq>63</stationSeq></busLocationList></msgBody></response>\n"
          ]
        }
      ],
      "source": [
        "import requests\n",
        "url = 'http://openapi.gbis.go.kr/ws/rest/buslocationservice?serviceKey=1234567890&routeId=200000150'\n",
        "r= requests.get(url)\n",
        "print(r.text)"
      ]
    },
    {
      "cell_type": "code",
      "source": [
        "from bs4 import BeautifulSoup\n",
        "\n",
        "soup = BeautifulSoup(r.text, features=\"xml\")"
      ],
      "metadata": {
        "id": "Xqr12sly0_tO"
      },
      "execution_count": 2,
      "outputs": []
    },
    {
      "cell_type": "code",
      "source": [
        "soup.find_all('stationId')"
      ],
      "metadata": {
        "colab": {
          "base_uri": "https://localhost:8080/"
        },
        "id": "w2ANazAw1QU2",
        "outputId": "97c75e68-c306-451b-e83c-11cf2b54ecad"
      },
      "execution_count": 3,
      "outputs": [
        {
          "output_type": "execute_result",
          "data": {
            "text/plain": [
              "[<stationId>201000447</stationId>,\n",
              " <stationId>200000160</stationId>,\n",
              " <stationId>277103204</stationId>,\n",
              " <stationId>201000101</stationId>,\n",
              " <stationId>201000414</stationId>,\n",
              " <stationId>201000337</stationId>,\n",
              " <stationId>201000100</stationId>,\n",
              " <stationId>200000276</stationId>,\n",
              " <stationId>201000117</stationId>,\n",
              " <stationId>277101688</stationId>,\n",
              " <stationId>200000305</stationId>,\n",
              " <stationId>200000104</stationId>,\n",
              " <stationId>277103200</stationId>,\n",
              " <stationId>220000009</stationId>,\n",
              " <stationId>201000410</stationId>,\n",
              " <stationId>201000318</stationId>]"
            ]
          },
          "metadata": {},
          "execution_count": 3
        }
      ]
    },
    {
      "cell_type": "code",
      "source": [
        "print('학번=', 2376210, '이름=', '이예주')"
      ],
      "metadata": {
        "colab": {
          "base_uri": "https://localhost:8080/"
        },
        "id": "3bAsT8bm1r48",
        "outputId": "a7b7ad99-16c1-4d32-c1f6-bc2e1ed7bf86"
      },
      "execution_count": 4,
      "outputs": [
        {
          "output_type": "stream",
          "name": "stdout",
          "text": [
            "학번= 2376210 이름= 이예주\n"
          ]
        }
      ]
    }
  ]
}