{
  "nbformat": 4,
  "nbformat_minor": 0,
  "metadata": {
    "colab": {
      "provenance": [],
      "authorship_tag": "ABX9TyOXzKA8SzezDQZOCouu8ZLP",
      "include_colab_link": true
    },
    "kernelspec": {
      "name": "python3",
      "display_name": "Python 3"
    },
    "language_info": {
      "name": "python"
    }
  },
  "cells": [
    {
      "cell_type": "markdown",
      "metadata": {
        "id": "view-in-github",
        "colab_type": "text"
      },
      "source": [
        "<a href=\"https://colab.research.google.com/github/yeju321qaz/assignment/blob/main/RentBike%20assignmet.ipynb\" target=\"_parent\"><img src=\"https://colab.research.google.com/assets/colab-badge.svg\" alt=\"Open In Colab\"/></a>"
      ]
    },
    {
      "cell_type": "code",
      "execution_count": 1,
      "metadata": {
        "colab": {
          "base_uri": "https://localhost:8080/"
        },
        "id": "p1grdqO1EnVC",
        "outputId": "130a9eb5-6fa0-45b9-fc9a-2ba645927350"
      },
      "outputs": [
        {
          "output_type": "stream",
          "name": "stdout",
          "text": [
            "{'rentBikeStatus': {'list_total_count': 5, 'RESULT': {'CODE': 'INFO-000', 'MESSAGE': '정상 처리되었습니다.'}, 'row': [{'rackTotCnt': '15', 'stationName': '102. 망원역 1번출구 앞', 'parkingBikeTotCnt': '28', 'shared': '187', 'stationLatitude': '37.55564880', 'stationLongitude': '126.91062927', 'stationId': 'ST-4'}, {'rackTotCnt': '14', 'stationName': '103. 망원역 2번출구 앞', 'parkingBikeTotCnt': '24', 'shared': '171', 'stationLatitude': '37.55495071', 'stationLongitude': '126.91083527', 'stationId': 'ST-5'}, {'rackTotCnt': '13', 'stationName': '104. 합정역 1번출구 앞', 'parkingBikeTotCnt': '19', 'shared': '146', 'stationLatitude': '37.55073929', 'stationLongitude': '126.91508484', 'stationId': 'ST-6'}, {'rackTotCnt': '5', 'stationName': '105. 합정역 5번출구 앞', 'parkingBikeTotCnt': '17', 'shared': '340', 'stationLatitude': '37.55000687', 'stationLongitude': '126.91482544', 'stationId': 'ST-7'}, {'rackTotCnt': '12', 'stationName': '106. 합정역 7번출구 앞', 'parkingBikeTotCnt': '4', 'shared': '33', 'stationLatitude': '37.54864502', 'stationLongitude': '126.91282654', 'stationId': 'ST-8'}]}}\n"
          ]
        }
      ],
      "source": [
        "import requests\n",
        "r = requests.get('http://openapi.seoul.go.kr:8088/4a76774f4279656a39336a424c7963/json/bikeList/1/5/')\n",
        "print(r.json())\n",
        "j=r.json()"
      ]
    },
    {
      "cell_type": "code",
      "source": [
        "for x in j['rentBikeStatus']['row']:\n",
        "  print ('대여건수:',x['stationName'], x['shared'])"
      ],
      "metadata": {
        "colab": {
          "base_uri": "https://localhost:8080/"
        },
        "id": "C7yXNaXaID2J",
        "outputId": "8c4c2858-f5c0-4ebd-fe47-9b44cfe8f515"
      },
      "execution_count": 7,
      "outputs": [
        {
          "output_type": "stream",
          "name": "stdout",
          "text": [
            "대여건수: 102. 망원역 1번출구 앞 187\n",
            "대여건수: 103. 망원역 2번출구 앞 171\n",
            "대여건수: 104. 합정역 1번출구 앞 146\n",
            "대여건수: 105. 합정역 5번출구 앞 340\n",
            "대여건수: 106. 합정역 7번출구 앞 33\n"
          ]
        }
      ]
    }
  ]
}