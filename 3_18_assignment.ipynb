{
  "nbformat": 4,
  "nbformat_minor": 0,
  "metadata": {
    "colab": {
      "provenance": [],
      "authorship_tag": "ABX9TyP9KGJMCxzJa4YVYj1AQ0aR",
      "include_colab_link": true
    },
    "kernelspec": {
      "name": "python3",
      "display_name": "Python 3"
    },
    "language_info": {
      "name": "python"
    }
  },
  "cells": [
    {
      "cell_type": "markdown",
      "metadata": {
        "id": "view-in-github",
        "colab_type": "text"
      },
      "source": [
        "<a href=\"https://colab.research.google.com/github/yeju321qaz/assignment/blob/main/3_18_assignment.ipynb\" target=\"_parent\"><img src=\"https://colab.research.google.com/assets/colab-badge.svg\" alt=\"Open In Colab\"/></a>"
      ]
    },
    {
      "cell_type": "code",
      "execution_count": 5,
      "metadata": {
        "id": "TFwnQZiBcwPe",
        "colab": {
          "base_uri": "https://localhost:8080/"
        },
        "outputId": "abde0ba9-0b92-41cf-f18e-c002d860773d"
      },
      "outputs": [
        {
          "output_type": "stream",
          "name": "stdout",
          "text": [
            "콘서트 - 오걸작\n",
            "정동다음_4월\n",
            "2022 호프만의 이야기\n",
            "2022 왕자, 호동\n",
            "2022 라 보엠\n",
            "2022 시칠리아 섬의 저녁기도\n",
            "무용 - 2024 세실풍류\n",
            "현대무용 - 봄날의 춤\n",
            "2022 무용극 호동\n",
            "2023 세종의 노래 : 월인천강지곡\n"
          ]
        }
      ],
      "source": [
        "import requests\n",
        "from bs4 import BeautifulSoup\n",
        "r = requests.get('http://api.kcisa.kr/openapi/API_CIA_144/request?serviceKey=6258a078-9ddb-4995-b6ec-ad88e49d5211&numOfRows=10&pageNo=1')\n",
        "soup = BeautifulSoup(r.text, 'html.parser')\n",
        "titles = soup.find_all('title')\n",
        "for title in titles:\n",
        "    print(title.text)"
      ]
    }
  ]
}