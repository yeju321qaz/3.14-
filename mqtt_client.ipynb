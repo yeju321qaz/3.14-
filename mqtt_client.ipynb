{
  "nbformat": 4,
  "nbformat_minor": 0,
  "metadata": {
    "colab": {
      "provenance": [],
      "include_colab_link": true
    },
    "kernelspec": {
      "name": "python3",
      "display_name": "Python 3"
    },
    "language_info": {
      "name": "python"
    }
  },
  "cells": [
    {
      "cell_type": "markdown",
      "metadata": {
        "id": "view-in-github",
        "colab_type": "text"
      },
      "source": [
        "<a href=\"https://colab.research.google.com/github/yeju321qaz/assignment/blob/main/mqtt_client.ipynb\" target=\"_parent\"><img src=\"https://colab.research.google.com/assets/colab-badge.svg\" alt=\"Open In Colab\"/></a>"
      ]
    },
    {
      "cell_type": "code",
      "source": [
        "!pip install paho-mqtt"
      ],
      "metadata": {
        "id": "_Qt6P5eYMkz6",
        "outputId": "1d9ce290-27ed-4b9f-d037-b75e43f5f847",
        "colab": {
          "base_uri": "https://localhost:8080/"
        }
      },
      "execution_count": 2,
      "outputs": [
        {
          "output_type": "stream",
          "name": "stdout",
          "text": [
            "Collecting paho-mqtt\n",
            "  Downloading paho_mqtt-2.0.0-py3-none-any.whl (66 kB)\n",
            "\u001b[?25l     \u001b[90m━━━━━━━━━━━━━━━━━━━━━━━━━━━━━━━━━━━━━━━━\u001b[0m \u001b[32m0.0/66.9 kB\u001b[0m \u001b[31m?\u001b[0m eta \u001b[36m-:--:--\u001b[0m\r\u001b[2K     \u001b[90m━━━━━━━━━━━━━━━━━━━━━━━━━━━━━━━━━━━━━━━━\u001b[0m \u001b[32m66.9/66.9 kB\u001b[0m \u001b[31m2.3 MB/s\u001b[0m eta \u001b[36m0:00:00\u001b[0m\n",
            "\u001b[?25hInstalling collected packages: paho-mqtt\n",
            "Successfully installed paho-mqtt-2.0.0\n"
          ]
        }
      ]
    },
    {
      "cell_type": "code",
      "source": [
        "import paho.mqtt.client as mqtt\n",
        "\n",
        "def on_connect(client, userdata, flags, rc):\n",
        "    print(\"Connected with result code \"+str(rc))\n",
        "    client.subscribe(\"newrelease\")\n",
        "\n",
        "def on_message(client, userdata, msg):\n",
        "    print(f\"Received message '{msg.payload.decode()}' on topic '{msg.topic}' with QoS {msg.qos}\")\n",
        "\n",
        "broker_address = \"damoa.io\"\n",
        "client = mqtt.Client(mqtt.CallbackAPIVersion.VERSION1, \"838372834287364527\")\n",
        "\n",
        "client.on_connect = on_connect\n",
        "client.on_message = on_message\n",
        "\n",
        "client.connect(broker_address, 1883, 60)\n",
        "client.loop_forever()\n"
      ],
      "metadata": {
        "colab": {
          "base_uri": "https://localhost:8080/"
        },
        "id": "hCRAn3F9JNM_",
        "outputId": "5863666e-eaf0-40a4-a6e4-3b3a9b815965"
      },
      "execution_count": null,
      "outputs": [
        {
          "output_type": "stream",
          "name": "stderr",
          "text": [
            "<ipython-input-3-a62957004311>:11: DeprecationWarning: Callback API version 1 is deprecated, update to latest version\n",
            "  client = mqtt.Client(mqtt.CallbackAPIVersion.VERSION1, \"838372834287364527\")\n"
          ]
        },
        {
          "output_type": "stream",
          "name": "stdout",
          "text": [
            "Connected with result code 0\n"
          ]
        }
      ]
    },
    {
      "cell_type": "code",
      "source": [],
      "metadata": {
        "id": "4bb1cR6yJQTp"
      },
      "execution_count": null,
      "outputs": []
    }
  ]
}